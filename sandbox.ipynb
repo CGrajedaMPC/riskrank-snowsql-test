{
 "metadata": {
  "kernelspec": {
   "display_name": ".venv3.11",
   "language": "python",
   "name": "python3"
  },
  "language_info": {
   "codemirror_mode": {
    "name": "ipython",
    "version": 3
   },
   "file_extension": ".py",
   "mimetype": "text/x-python",
   "name": "python",
   "nbconvert_exporter": "python",
   "pygments_lexer": "ipython3",
   "version": "3.11.9"
  },
  "lastEditStatus": {
   "notebookId": "opgmibyw3u62gbxlemfz",
   "authorId": "8480996118988",
   "authorName": "CGRAJEDA",
   "authorEmail": "cgrajeda@mountainpointcredit.com",
   "sessionId": "f3bc143f-1c73-43e1-97e2-9aeaa4786e18",
   "lastEditTime": 1750092085662
  }
 },
 "nbformat_minor": 5,
 "nbformat": 4,
 "cells": [
  {
   "cell_type": "markdown",
   "id": "6ffa83fb-a5ca-42f4-ad50-51ab2770427a",
   "metadata": {
    "name": "cell1",
    "collapsed": false
   },
   "source": "## Configure Snowflake Hierarchy"
  },
  {
   "cell_type": "code",
   "execution_count": 2,
   "id": "e9883944-cf45-4ad8-bdde-549811ac2848",
   "metadata": {
    "name": "cell2",
    "language": "python"
   },
   "outputs": [],
   "source": "SNOW_WH = \"E2E_SNOW_MLOPS_WH\"\nSNOW_DB = \"E2E_SNOW_MLOPS_DB_CG\"\nSNOW_SCHEMA = \"MLOPS_SCHEMA\"\nSNOW_ROLE = \"E2E_SNOW_MLOPS_ROLE\""
  },
  {
   "cell_type": "code",
   "id": "a295f5e4-f05c-4118-986d-891ac3325b5c",
   "metadata": {
    "language": "sql",
    "name": "cell4"
   },
   "outputs": [],
   "source": "-- Verify correct role is applied\nSELECT CURRENT_USER();\nUSE ROLE E2E_SNOW_MLOPS_ROLE;",
   "execution_count": null
  },
  {
   "cell_type": "markdown",
   "id": "3addcde8-5033-4ae9-bf5b-db49b01081e3",
   "metadata": {
    "name": "cell5",
    "collapsed": false
   },
   "source": "## Python Imports"
  },
  {
   "cell_type": "code",
   "id": "5ccbf79f-9ada-4ed9-9bf0-9be8eb093104",
   "metadata": {
    "language": "python",
    "name": "cell6"
   },
   "outputs": [],
   "source": "import pandas as pd\nimport numpy as np\nimport sklearn\nimport math\nimport pickle\nfrom datetime import datetime\nimport streamlit as st\nfrom xgboost import XGBClassifier\nfrom sklearn.metrics import f1_score, precision_score, recall_score\n\n# Snowpark ML\nimport snowflake.ml.modeling.preprocessing as snowml\nimport snowflake.ml.modeling.metrics as SnowMetrics\nfrom snowflake.ml.registry import Registry\nfrom snowflake.ml.modeling.tune import get_tuner_context\nfrom snowflake.ml.modeling import tune\nfrom entities import search_algorithm\n\n#Snowflake feature store\nfrom snowflake.ml.feature_store import FeatureStore, FeatureView, Entity, CreationMode\n\n# Snowpark session\nfrom snowflake.snowpark import DataFrame\nfrom snowflake.snowpark.functions import col, to_timestamp, min, max, month, dayofweek, dayofyear, avg, date_add, sql_expr\nfrom snowflake.snowpark.types import IntegerType\nfrom snowflake.snowpark.types import StringType\nfrom snowflake.snowpark import Window\nfrom snowflake.snowpark.context import get_active_session\nimport snowflake.snowpark.functions as SnowF\n\nSEED = 101",
   "execution_count": null
  },
  {
   "cell_type": "code",
   "id": "a5e80b83-f297-4363-9feb-dc030d67fc86",
   "metadata": {
    "language": "python",
    "name": "cell27",
    "codeCollapsed": false
   },
   "outputs": [],
   "source": "def snowdf_shape(snowdf: DataFrame) -> tuple[int, int]:\n    \"\"\"\n    Helper function to compute a snowpark dataframe's shape, pandas style\n    \"\"\"\n    return (snowdf.count(), len(snowdf.columns))",
   "execution_count": null
  },
  {
   "cell_type": "markdown",
   "id": "1a469408-86c2-40a4-9758-5f7427db6ad9",
   "metadata": {
    "name": "cell8",
    "collapsed": false
   },
   "source": "## Collect Training Data"
  },
  {
   "cell_type": "code",
   "id": "8e898f77-b1d6-4c8e-b4bc-4956182aee00",
   "metadata": {
    "language": "python",
    "name": "cell7"
   },
   "outputs": [],
   "source": "# Get active session from snowflake, store as 'session'\nsession = get_active_session()\n\n# Pull table from session and store as Snow DF (not pandas df!)\nsession_df = session.table(\"HUB.ASSET.INSTRUMENT_RISK_RANKING\")\nsession_df.show(5)",
   "execution_count": null
  },
  {
   "cell_type": "code",
   "id": "7b56256f-1d32-485d-b260-14952c4ee973",
   "metadata": {
    "language": "python",
    "name": "cell14"
   },
   "outputs": [],
   "source": "# Init feature store instance\nfs = FeatureStore(\n    session=session,\n    database=SNOW_DB,\n    name=SNOW_SCHEMA,\n    default_warehouse=SNOW_WH,\n    creation_mode=CreationMode.CREATE_IF_NOT_EXIST\n)\nfs.list_entities()",
   "execution_count": null
  },
  {
   "cell_type": "markdown",
   "id": "10c88239-47ee-427d-8ab4-f0d20d7e366e",
   "metadata": {
    "name": "cell23",
    "collapsed": false
   },
   "source": "## Prep Data and Create FeatureView"
  },
  {
   "cell_type": "code",
   "id": "3111fe28-1403-4662-ae2b-6760e03d196c",
   "metadata": {
    "language": "python",
    "name": "cell21"
   },
   "outputs": [],
   "source": "\n# Remove unnecessary features\nsession_df = session_df.drop([\n    \"CALENDAR_DATE\",\n    \"RISK_RANK_REASON_TEXT\",\n    \"IS_SELECT\",\n    \"NOT_IN_SELECT_REASON\",\n    \"PRICE_RISK_RANK\",\n    \"SPGLOBAL_RATING_RISK_RANK\",\n    \"SPGLOBAL_RATING_WATCHLIST_RISK_RANK\",\n    \"MOODYS_RATING_RISK_RANK\",\n    \"MOODYS_RATING_WATCHLIST_RISK_RANK\"\n])\n\n# DEBUG: take only first instance of IID, remove instances of \"-1\"\n# session_df = session_df.drop_duplicates(\"INSTRUMENT_IDENTIFIER\")\n# session_df = session_df.filter(SnowF.col(\"RISK_RANK\") > -1.0)\nsession_df.show(5)\nprint(f\"Rows: {session_df.count()}, Cols: {len(session_df.columns)}\")",
   "execution_count": null
  },
  {
   "cell_type": "code",
   "id": "3164f4ed-3aaf-419f-af25-80ab147b914f",
   "metadata": {
    "language": "python",
    "name": "cell33"
   },
   "outputs": [],
   "source": "pd = session_df.collect()\nlen(pd)",
   "execution_count": null
  },
  {
   "cell_type": "code",
   "id": "5d9b60bc-8269-4de3-b500-97383cd292a9",
   "metadata": {
    "language": "python",
    "name": "cell30"
   },
   "outputs": [],
   "source": "# Diagnose current dataset\nsession_df.to_pandas()[\"RISK_RANK\"].value_counts()\nsession_df.group_by(\"RISK_RANK\").count().order_by(\"count\")",
   "execution_count": null
  },
  {
   "cell_type": "code",
   "id": "d28d88a5-1c6b-41d4-9515-11e3efec9351",
   "metadata": {
    "language": "python",
    "name": "cell32"
   },
   "outputs": [],
   "source": "cleaned_df = session_df.filter(session_df[\"RISK_RANK\"] >= SnowF.lit(0))\ncleaned_df.group_by(\"RISK_RANK\").count().order_by(\"count\")",
   "execution_count": null
  },
  {
   "cell_type": "markdown",
   "id": "cd73d4c5-558b-4c43-8bbd-3404392c5330",
   "metadata": {
    "name": "cell31",
    "collapsed": false
   },
   "source": "Note, the classifiers are very heavily skewed towards a Risk Rank of 3, with only one occurence of \"-1\".\nTo remedy this, we will drop the \"-1\" classifier (only appears for rows with missing data, which will be removed anyways), and randomly select the remaining classes"
  },
  {
   "cell_type": "code",
   "id": "886c44d2-5947-45c1-9121-8f6bdf90fe31",
   "metadata": {
    "language": "python",
    "name": "cell19"
   },
   "outputs": [],
   "source": "# Create entity to track, joined on instrument id\n# A bit of a necessary evil, but we can drop the extra col later on\nnew_entity = Entity(\n    name=\"INSTRUMENT_ENTITY\",\n    join_keys=[\"INSTRUMENT_IDENTIFIER\"],\n    desc=\"Features joined per IID\"\n)\n\nfs.register_entity(new_entity)",
   "execution_count": null
  },
  {
   "cell_type": "code",
   "id": "370f37e9-774d-4f69-a639-a108410312a0",
   "metadata": {
    "language": "python",
    "name": "cell18"
   },
   "outputs": [],
   "source": "# Add view for features, containing our tracked entity\nfv = FeatureView(\n    name=\"Risk_Rank_Feature_View\",\n    entities=[new_entity],\n    feature_df=session_df\n)\n\nfv = fs.register_feature_view(fv, \"v1\", overwrite=True)\nfs.list_feature_views()",
   "execution_count": null
  },
  {
   "cell_type": "code",
   "id": "bd2fa75d-abc2-4c9c-a474-8a54304065c8",
   "metadata": {
    "language": "python",
    "name": "cell22"
   },
   "outputs": [],
   "source": "# Creates link for feature view UI\norg = session.call(\"CURRENT_ORGANIZATION_NAME\")\nacc = session.call(\"CURRENT_ACCOUNT_NAME\")\nst.write(f\"https://app.snowflake.com/{org}/{acc}/#/features/database/{SNOW_DB}/store/{SNOW_SCHEMA}\")",
   "execution_count": null
  },
  {
   "cell_type": "markdown",
   "id": "e1a94a11-39f7-4bf7-8e0f-1e1fbbc91206",
   "metadata": {
    "name": "cell16",
    "collapsed": false
   },
   "source": "## Retrieve Data from Feature View, Prep for Training"
  },
  {
   "cell_type": "code",
   "id": "1e4d068a-dc9c-4cdb-880f-f1d8662c20e9",
   "metadata": {
    "language": "python",
    "name": "cell20"
   },
   "outputs": [],
   "source": "# Snowpark dataset hook\ndataset = fs.generate_dataset(\n    name=\"RISK_RANK_DATASET\",\n    spine_df=session_df.select(\"INSTRUMENT_IDENTIFIER\"),\n    features=[fv],\n    spine_label_cols=[\"RISK_RANK\"]\n)",
   "execution_count": null
  },
  {
   "cell_type": "code",
   "id": "d1d4348d-676c-4e61-9b25-9e1b3a697e4d",
   "metadata": {
    "language": "python",
    "name": "cell24"
   },
   "outputs": [],
   "source": "# Recast to snowpark DataFrame\ndataset: DataFrame = dataset.read.to_snowpark_dataframe()\ndataset.show(5)\ndataset.print_schema()",
   "execution_count": null
  },
  {
   "cell_type": "code",
   "id": "bb16696d-af9b-4207-bbfb-9f580b7bc1be",
   "metadata": {
    "language": "python",
    "name": "cell29"
   },
   "outputs": [],
   "source": "# Diagnose class distribution\ny_dist = dataset.to_pandas()\ny_dist[\"RISK_RANK\"].value_counts()\n\n# type(y_dist)",
   "execution_count": null
  },
  {
   "cell_type": "code",
   "id": "34a113c3-58a1-4f6b-b5db-54a306a1e05c",
   "metadata": {
    "language": "python",
    "name": "cell25"
   },
   "outputs": [],
   "source": "# Categorize RISK_RANK classifiers\nencoder = snowml.OrdinalEncoder(input_cols=[\"RISK_RANK\"], output_cols=[\"RISK_RANK\"], drop_input_cols=True)\ndataset = encoder.fit(dataset).transform(dataset)",
   "execution_count": null
  },
  {
   "cell_type": "code",
   "id": "38d98bd0-8c3e-46ab-9e68-a886db68cf6b",
   "metadata": {
    "language": "python",
    "name": "cell26"
   },
   "outputs": [],
   "source": "# Split features and labels, send to pd (model friendly)\ntrain, test = dataset.random_split(weights=[0.7, 0.3], seed=SEED)\nx_train = train.drop(\"RISK_RANK\", \"INSTRUMENT_IDENTIFIER\").to_pandas()\ny_train = train[[\"RISK_RANK\"]].to_pandas()\nx_test = test.drop(\"RISK_RANK\", \"INSTRUMENT_IDENTIFIER\").to_pandas()\ny_test = test[[\"RISK_RANK\"]].to_pandas()\n\nx_train.shape\ny_train.shape\nx_test.shape\ny_test.shape",
   "execution_count": null
  },
  {
   "cell_type": "markdown",
   "id": "12aedd9e-810b-460a-b409-b355eef9726b",
   "metadata": {
    "name": "cell28",
    "collapsed": false
   },
   "source": "## Train and Test Model"
  },
  {
   "cell_type": "code",
   "id": "7f981cf6-45b8-4aff-9bbf-860010677e1e",
   "metadata": {
    "language": "python",
    "name": "cell17"
   },
   "outputs": [],
   "source": "# Init model of choice\nxgb_model = XGBClassifier(\n    max_depth=5,\n    n_estimators=1,\n    learning_rate=1e-3,\n    booster=\"gbtree\",\n    seed=SEED\n)",
   "execution_count": null
  },
  {
   "cell_type": "code",
   "id": "8efb159a-2ea1-4581-91cf-6069c70ee3c8",
   "metadata": {
    "language": "python",
    "name": "cell15",
    "codeCollapsed": false
   },
   "outputs": [],
   "source": "# Train model\nxgb_model.fit(x_train, y_train)",
   "execution_count": null
  },
  {
   "cell_type": "code",
   "id": "a8d13a47-2f81-4de3-a097-c612f3b53213",
   "metadata": {
    "language": "python",
    "name": "cell10"
   },
   "outputs": [],
   "source": "# Measure training performance\ntrain_preds = xgb_model.predict(x_train)\ntrain_acc = sklearn.metrics.accuracy_score(y_train.to_numpy().squeeze(), train_preds)\n\nprint(f\"Training Accuracy: {train_acc:.4f}\")",
   "execution_count": null
  },
  {
   "cell_type": "code",
   "id": "90baeaa6-da12-4a0d-96bb-86c698a61457",
   "metadata": {
    "language": "python",
    "name": "cell12"
   },
   "outputs": [],
   "source": "# Measure testing performance\ntest_preds = xgb_model.predict(x_test)\ntest_acc = sklearn.metrics.accuracy_score(y_test.to_numpy().squeeze(), test_preds)\n\nprint(f\"Test Accuracy: {test_acc:.4f}\")",
   "execution_count": null
  },
  {
   "cell_type": "markdown",
   "id": "0be8657c-a661-45cb-8b80-6ec1d795e4f0",
   "metadata": {
    "name": "cell3",
    "collapsed": false
   },
   "source": "## Diagnose Performance"
  },
  {
   "cell_type": "code",
   "id": "f22b77c2-de0e-4ee0-bf94-aeca27a00fbe",
   "metadata": {
    "language": "python",
    "name": "cell11"
   },
   "outputs": [],
   "source": "# Plot confusion matrix for training result (should be test, resampling needed)\nconf_plot = sklearn.metrics.ConfusionMatrixDisplay.from_predictions(\n    y_train.to_numpy().squeeze(),\n    train_preds,\n    display_labels=[\"-1\", \"0\", \"1\", \"2\", \"3\"]\n)",
   "execution_count": null
  },
  {
   "cell_type": "code",
   "id": "e0465633-098b-4f7f-82de-e78b8e969104",
   "metadata": {
    "language": "python",
    "name": "cell13"
   },
   "outputs": [],
   "source": "",
   "execution_count": null
  },
  {
   "cell_type": "markdown",
   "id": "81313a38-c783-4aca-a50f-e401d91154ab",
   "metadata": {
    "name": "cell9",
    "collapsed": false
   },
   "source": "## Model Registry"
  }
 ]
}
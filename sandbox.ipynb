{
 "cells": [
  {
   "cell_type": "markdown",
   "id": "1485f115",
   "metadata": {},
   "source": [
    "### Configure Snowflake Hierarchy"
   ]
  },
  {
   "cell_type": "code",
   "execution_count": 2,
   "id": "7a7ca018",
   "metadata": {},
   "outputs": [],
   "source": [
    "SNOW_WH = \"E2E_SNOW_MLOPS_WH\"\n",
    "SNOW_DB = \"E2E_SNOW_MLOPS_DB_CG\"\n",
    "SNOW_SCHEMA = \"MLOPS_SCHEMA\"\n",
    "SNOW_ROLE = \"E2E_SNOW_MLOPS_ROLE\""
   ]
  },
  {
   "cell_type": "code",
   "execution_count": null,
   "id": "11c47d20",
   "metadata": {},
   "outputs": [],
   "source": [
    "print(\"Hello world\")"
   ]
  }
 ],
 "metadata": {
  "kernelspec": {
   "display_name": ".venv3.11",
   "language": "python",
   "name": "python3"
  },
  "language_info": {
   "codemirror_mode": {
    "name": "ipython",
    "version": 3
   },
   "file_extension": ".py",
   "mimetype": "text/x-python",
   "name": "python",
   "nbconvert_exporter": "python",
   "pygments_lexer": "ipython3",
   "version": "3.11.9"
  }
 },
 "nbformat": 4,
 "nbformat_minor": 5
}
